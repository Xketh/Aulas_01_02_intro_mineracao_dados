{
  "cells": [
    {
      "cell_type": "markdown",
      "metadata": {
        "id": "view-in-github",
        "colab_type": "text"
      },
      "source": [
        "<a href=\"https://colab.research.google.com/github/Xketh/Aulas_01_02_intro_mineracao_dados/blob/main/Aulas_01_02_intro_mineracao_dados.ipynb\" target=\"_parent\"><img src=\"https://colab.research.google.com/assets/colab-badge.svg\" alt=\"Open In Colab\"/></a>"
      ]
    },
    {
      "cell_type": "markdown",
      "source": [
        "\n",
        "# 📘 **Aulas 01 e 02 - Dados**\n",
        "\n",
        "---\n",
        "\n",
        "* Palavras acompanhadas de * estão descritas no sumário para facilitar a compreensão."
      ],
      "metadata": {
        "id": "_wmk0g1rUyGu"
      },
      "id": "_wmk0g1rUyGu"
    },
    {
      "cell_type": "markdown",
      "id": "4dcfd3e5",
      "metadata": {
        "id": "4dcfd3e5"
      },
      "source": [
        "## **O que são dados?**\n",
        "\n",
        "\n",
        "---\n",
        "Imagina que os **dados** são peças soltas de LEGO: números, palavras ou fatos.  \n",
        "Sozinhos, não dizem muito. Mas, quando juntamos, viram **informações**.  \n",
        "E se analisarmos bem, conseguimos **conhecimento**, que ajuda a tomar decisões.\n",
        "\n",
        "- **Dados (sem contexto):** \"23\", \"Maria\", \"SP\".  \n",
        "- **Informação:** \"Maria tem 23 anos e mora em SP\".  \n",
        "- **Conhecimento:** \"Clientes que compram fraldas também compram lenços\".  \n",
        "\n",
        "👉 **Exemplo prático de tomada de decisão (mercado):** sugerir lenços quando o cliente coloca fraldas no carrinho.\n"
      ]
    },
    {
      "cell_type": "code",
      "execution_count": null,
      "id": "d2087084",
      "metadata": {
        "colab": {
          "base_uri": "https://localhost:8080/"
        },
        "id": "d2087084",
        "outputId": "8801c4de-ba91-41b7-bc18-4a5cfd94436e"
      },
      "outputs": [
        {
          "output_type": "stream",
          "name": "stdout",
          "text": [
            "Dado: ['Maria', 23, 'SP']\n",
            "Informação: Maria tem 23 anos e mora em SP\n",
            "Conhecimento: Clientes que compram fraldas também compram lenços.\n"
          ]
        }
      ],
      "source": [
        "\n",
        "# Exemplo simples de dado, informação e conhecimento\n",
        "dados = [\"Maria\", 23, \"SP\"]  # dado solto\n",
        "\n",
        "informacao = f\"{dados[0]} tem {dados[1]} anos e mora em {dados[2]}\"  # organizando os dados\n",
        "\n",
        "conhecimento = \"Clientes que compram fraldas também compram lenços.\"  # padrão encontrado\n",
        "\n",
        "print(\"Dado:\", dados)\n",
        "print(\"Informação:\", informacao)\n",
        "print(\"Conhecimento:\", conhecimento)\n"
      ]
    },
    {
      "cell_type": "markdown",
      "id": "93438037",
      "metadata": {
        "id": "93438037"
      },
      "source": [
        "## **Tipos de dados**\n",
        "\n",
        "\n",
        "---\n",
        "\n",
        "\n",
        "Existem diferentes tipos de dados porque cada informação tem uma forma diferente de ser representada, como números, palavras ou datas, e cada tipo precisa ser tratado de um jeito próprio.\n",
        "Assim, Isso ajuda na mineração de dados, porque o computador consegue organizar, analisar e encontrar padrões de forma mais eficiente.\n",
        "\n",
        "\n"
      ]
    },
    {
      "cell_type": "markdown",
      "source": [
        "1. **Numéricos Contínuos:** podem ter qualquer valor.  \n",
        "👉 Ex: altura (1,73 m), temperatura (36,5 °C)...\n"
      ],
      "metadata": {
        "id": "khr5ncDPVNLn"
      },
      "id": "khr5ncDPVNLn"
    },
    {
      "cell_type": "code",
      "source": [
        "import pandas as pd\n",
        "\n",
        "alturas = [1.73, 1.65, 1.82, 1.70]  # em metros\n",
        "print(\"Alturas (contínuos):\", alturas)"
      ],
      "metadata": {
        "colab": {
          "base_uri": "https://localhost:8080/"
        },
        "id": "Tnp8ZRTnV0-s",
        "outputId": "8f3e3a64-438a-4943-e47e-21a3fc47c488"
      },
      "id": "Tnp8ZRTnV0-s",
      "execution_count": null,
      "outputs": [
        {
          "output_type": "stream",
          "name": "stdout",
          "text": [
            "Alturas (contínuos): [1.73, 1.65, 1.82, 1.7]\n"
          ]
        }
      ]
    },
    {
      "cell_type": "markdown",
      "source": [
        "2. **Numéricos Discretos:** valores inteiros, contáveis.  \n",
        "👉 Ex: número de filhos (0, 1, 2).  \n",
        "\n"
      ],
      "metadata": {
        "id": "aWP2XcyYVo2f"
      },
      "id": "aWP2XcyYVo2f"
    },
    {
      "cell_type": "code",
      "source": [
        "filhos = [0, 1, 2, 3]\n",
        "print(\"Número de filhos (discretos):\", filhos)"
      ],
      "metadata": {
        "colab": {
          "base_uri": "https://localhost:8080/"
        },
        "id": "Vnd7_j4HXB4t",
        "outputId": "70677a1f-f506-49cd-e93e-34d538b521f2"
      },
      "id": "Vnd7_j4HXB4t",
      "execution_count": null,
      "outputs": [
        {
          "output_type": "stream",
          "name": "stdout",
          "text": [
            "Número de filhos (discretos): [0, 1, 2, 3]\n"
          ]
        }
      ]
    },
    {
      "cell_type": "markdown",
      "source": [
        "3. **Categóricos Nominais:** sem ordem.  \n",
        "👉 Ex: cor (azul, verde, vermelho).  \n",
        "\n"
      ],
      "metadata": {
        "id": "aOw40RFwVr-C"
      },
      "id": "aOw40RFwVr-C"
    },
    {
      "cell_type": "code",
      "source": [
        "cores = [\"Azul\", \"Verde\", \"Vermelho\"]\n",
        "print(\"Cores (nominais):\", cores)\n"
      ],
      "metadata": {
        "colab": {
          "base_uri": "https://localhost:8080/"
        },
        "id": "8laDR2epXE_u",
        "outputId": "af9aed9e-f343-4744-f527-bbd3584cc5c4"
      },
      "id": "8laDR2epXE_u",
      "execution_count": null,
      "outputs": [
        {
          "output_type": "stream",
          "name": "stdout",
          "text": [
            "Cores (nominais): ['Azul', 'Verde', 'Vermelho']\n"
          ]
        }
      ]
    },
    {
      "cell_type": "markdown",
      "source": [
        "4. **Categóricos Ordinais:** têm ordem natural.\n",
        "👉 Ex: escolaridade (fundamental < médio < superior).  \n",
        "\n"
      ],
      "metadata": {
        "id": "DOSzki-0Vunx"
      },
      "id": "DOSzki-0Vunx"
    },
    {
      "cell_type": "code",
      "source": [
        "escolaridade = pd.Categorical(\n",
        "    [\"Fundamental\", \"Médio\", \"Superior\"],\n",
        "    categories=[\"Fundamental\", \"Médio\", \"Superior\"],\n",
        "    ordered=True\n",
        ")\n",
        "print(\"Escolaridade (ordinais):\")\n",
        "print(escolaridade)\n"
      ],
      "metadata": {
        "colab": {
          "base_uri": "https://localhost:8080/"
        },
        "id": "yc4Mg2RrXKSc",
        "outputId": "1aef7596-3c4a-4878-9edc-021e255e9b55"
      },
      "id": "yc4Mg2RrXKSc",
      "execution_count": null,
      "outputs": [
        {
          "output_type": "stream",
          "name": "stdout",
          "text": [
            "Escolaridade (ordinais):\n",
            "['Fundamental', 'Médio', 'Superior']\n",
            "Categories (3, object): ['Fundamental' < 'Médio' < 'Superior']\n"
          ]
        }
      ]
    },
    {
      "cell_type": "markdown",
      "source": [
        "5. **Texto/Não estruturados:** não seguem padrão fixo.  \n",
        "👉 Ex: posts, e-mails, imagens.\n"
      ],
      "metadata": {
        "id": "NXhzrvbSVxt1"
      },
      "id": "NXhzrvbSVxt1"
    },
    {
      "cell_type": "code",
      "source": [
        "posts = [\"Adorei esse produto!\", \"Nota 10!!!\", \"😡 Não gostei, atrasou muito.\"]\n",
        "print(\"Posts (texto):\", posts)"
      ],
      "metadata": {
        "colab": {
          "base_uri": "https://localhost:8080/"
        },
        "id": "mDbDFvLJcqCd",
        "outputId": "5012b55e-fa93-4627-cd79-c5071b72752e"
      },
      "id": "mDbDFvLJcqCd",
      "execution_count": null,
      "outputs": [
        {
          "output_type": "stream",
          "name": "stdout",
          "text": [
            "Posts (texto): ['Adorei esse produto!', 'Nota 10!!!', '😡 Não gostei, atrasou muito.']\n"
          ]
        }
      ]
    },
    {
      "cell_type": "markdown",
      "source": [
        "**Exemplo prático**"
      ],
      "metadata": {
        "id": "R3eX9YJ6ekcZ"
      },
      "id": "R3eX9YJ6ekcZ"
    },
    {
      "cell_type": "code",
      "execution_count": null,
      "id": "29daca89",
      "metadata": {
        "colab": {
          "base_uri": "https://localhost:8080/"
        },
        "id": "29daca89",
        "outputId": "33591d75-8052-4262-d168-54413c81671b"
      },
      "outputs": [
        {
          "output_type": "execute_result",
          "data": {
            "text/plain": [
              "    Nome  Idade  Altura CorFavorita Escolaridade\n",
              "0    Ana     13    1.60        Azul  Fundamental\n",
              "1  Bruno     14    1.70       Verde        Médio\n",
              "2  Carla     15    1.55    Vermelho     Superior"
            ],
            "text/html": [
              "\n",
              "  <div id=\"df-b4e82045-e516-4c8f-b89d-5d3eaa66e0e5\" class=\"colab-df-container\">\n",
              "    <div>\n",
              "<style scoped>\n",
              "    .dataframe tbody tr th:only-of-type {\n",
              "        vertical-align: middle;\n",
              "    }\n",
              "\n",
              "    .dataframe tbody tr th {\n",
              "        vertical-align: top;\n",
              "    }\n",
              "\n",
              "    .dataframe thead th {\n",
              "        text-align: right;\n",
              "    }\n",
              "</style>\n",
              "<table border=\"1\" class=\"dataframe\">\n",
              "  <thead>\n",
              "    <tr style=\"text-align: right;\">\n",
              "      <th></th>\n",
              "      <th>Nome</th>\n",
              "      <th>Idade</th>\n",
              "      <th>Altura</th>\n",
              "      <th>CorFavorita</th>\n",
              "      <th>Escolaridade</th>\n",
              "    </tr>\n",
              "  </thead>\n",
              "  <tbody>\n",
              "    <tr>\n",
              "      <th>0</th>\n",
              "      <td>Ana</td>\n",
              "      <td>13</td>\n",
              "      <td>1.60</td>\n",
              "      <td>Azul</td>\n",
              "      <td>Fundamental</td>\n",
              "    </tr>\n",
              "    <tr>\n",
              "      <th>1</th>\n",
              "      <td>Bruno</td>\n",
              "      <td>14</td>\n",
              "      <td>1.70</td>\n",
              "      <td>Verde</td>\n",
              "      <td>Médio</td>\n",
              "    </tr>\n",
              "    <tr>\n",
              "      <th>2</th>\n",
              "      <td>Carla</td>\n",
              "      <td>15</td>\n",
              "      <td>1.55</td>\n",
              "      <td>Vermelho</td>\n",
              "      <td>Superior</td>\n",
              "    </tr>\n",
              "  </tbody>\n",
              "</table>\n",
              "</div>\n",
              "    <div class=\"colab-df-buttons\">\n",
              "\n",
              "  <div class=\"colab-df-container\">\n",
              "    <button class=\"colab-df-convert\" onclick=\"convertToInteractive('df-b4e82045-e516-4c8f-b89d-5d3eaa66e0e5')\"\n",
              "            title=\"Convert this dataframe to an interactive table.\"\n",
              "            style=\"display:none;\">\n",
              "\n",
              "  <svg xmlns=\"http://www.w3.org/2000/svg\" height=\"24px\" viewBox=\"0 -960 960 960\">\n",
              "    <path d=\"M120-120v-720h720v720H120Zm60-500h600v-160H180v160Zm220 220h160v-160H400v160Zm0 220h160v-160H400v160ZM180-400h160v-160H180v160Zm440 0h160v-160H620v160ZM180-180h160v-160H180v160Zm440 0h160v-160H620v160Z\"/>\n",
              "  </svg>\n",
              "    </button>\n",
              "\n",
              "  <style>\n",
              "    .colab-df-container {\n",
              "      display:flex;\n",
              "      gap: 12px;\n",
              "    }\n",
              "\n",
              "    .colab-df-convert {\n",
              "      background-color: #E8F0FE;\n",
              "      border: none;\n",
              "      border-radius: 50%;\n",
              "      cursor: pointer;\n",
              "      display: none;\n",
              "      fill: #1967D2;\n",
              "      height: 32px;\n",
              "      padding: 0 0 0 0;\n",
              "      width: 32px;\n",
              "    }\n",
              "\n",
              "    .colab-df-convert:hover {\n",
              "      background-color: #E2EBFA;\n",
              "      box-shadow: 0px 1px 2px rgba(60, 64, 67, 0.3), 0px 1px 3px 1px rgba(60, 64, 67, 0.15);\n",
              "      fill: #174EA6;\n",
              "    }\n",
              "\n",
              "    .colab-df-buttons div {\n",
              "      margin-bottom: 4px;\n",
              "    }\n",
              "\n",
              "    [theme=dark] .colab-df-convert {\n",
              "      background-color: #3B4455;\n",
              "      fill: #D2E3FC;\n",
              "    }\n",
              "\n",
              "    [theme=dark] .colab-df-convert:hover {\n",
              "      background-color: #434B5C;\n",
              "      box-shadow: 0px 1px 3px 1px rgba(0, 0, 0, 0.15);\n",
              "      filter: drop-shadow(0px 1px 2px rgba(0, 0, 0, 0.3));\n",
              "      fill: #FFFFFF;\n",
              "    }\n",
              "  </style>\n",
              "\n",
              "    <script>\n",
              "      const buttonEl =\n",
              "        document.querySelector('#df-b4e82045-e516-4c8f-b89d-5d3eaa66e0e5 button.colab-df-convert');\n",
              "      buttonEl.style.display =\n",
              "        google.colab.kernel.accessAllowed ? 'block' : 'none';\n",
              "\n",
              "      async function convertToInteractive(key) {\n",
              "        const element = document.querySelector('#df-b4e82045-e516-4c8f-b89d-5d3eaa66e0e5');\n",
              "        const dataTable =\n",
              "          await google.colab.kernel.invokeFunction('convertToInteractive',\n",
              "                                                    [key], {});\n",
              "        if (!dataTable) return;\n",
              "\n",
              "        const docLinkHtml = 'Like what you see? Visit the ' +\n",
              "          '<a target=\"_blank\" href=https://colab.research.google.com/notebooks/data_table.ipynb>data table notebook</a>'\n",
              "          + ' to learn more about interactive tables.';\n",
              "        element.innerHTML = '';\n",
              "        dataTable['output_type'] = 'display_data';\n",
              "        await google.colab.output.renderOutput(dataTable, element);\n",
              "        const docLink = document.createElement('div');\n",
              "        docLink.innerHTML = docLinkHtml;\n",
              "        element.appendChild(docLink);\n",
              "      }\n",
              "    </script>\n",
              "  </div>\n",
              "\n",
              "\n",
              "    <div id=\"df-0a1c903b-7e82-4710-99c1-7ad07abd2403\">\n",
              "      <button class=\"colab-df-quickchart\" onclick=\"quickchart('df-0a1c903b-7e82-4710-99c1-7ad07abd2403')\"\n",
              "                title=\"Suggest charts\"\n",
              "                style=\"display:none;\">\n",
              "\n",
              "<svg xmlns=\"http://www.w3.org/2000/svg\" height=\"24px\"viewBox=\"0 0 24 24\"\n",
              "     width=\"24px\">\n",
              "    <g>\n",
              "        <path d=\"M19 3H5c-1.1 0-2 .9-2 2v14c0 1.1.9 2 2 2h14c1.1 0 2-.9 2-2V5c0-1.1-.9-2-2-2zM9 17H7v-7h2v7zm4 0h-2V7h2v10zm4 0h-2v-4h2v4z\"/>\n",
              "    </g>\n",
              "</svg>\n",
              "      </button>\n",
              "\n",
              "<style>\n",
              "  .colab-df-quickchart {\n",
              "      --bg-color: #E8F0FE;\n",
              "      --fill-color: #1967D2;\n",
              "      --hover-bg-color: #E2EBFA;\n",
              "      --hover-fill-color: #174EA6;\n",
              "      --disabled-fill-color: #AAA;\n",
              "      --disabled-bg-color: #DDD;\n",
              "  }\n",
              "\n",
              "  [theme=dark] .colab-df-quickchart {\n",
              "      --bg-color: #3B4455;\n",
              "      --fill-color: #D2E3FC;\n",
              "      --hover-bg-color: #434B5C;\n",
              "      --hover-fill-color: #FFFFFF;\n",
              "      --disabled-bg-color: #3B4455;\n",
              "      --disabled-fill-color: #666;\n",
              "  }\n",
              "\n",
              "  .colab-df-quickchart {\n",
              "    background-color: var(--bg-color);\n",
              "    border: none;\n",
              "    border-radius: 50%;\n",
              "    cursor: pointer;\n",
              "    display: none;\n",
              "    fill: var(--fill-color);\n",
              "    height: 32px;\n",
              "    padding: 0;\n",
              "    width: 32px;\n",
              "  }\n",
              "\n",
              "  .colab-df-quickchart:hover {\n",
              "    background-color: var(--hover-bg-color);\n",
              "    box-shadow: 0 1px 2px rgba(60, 64, 67, 0.3), 0 1px 3px 1px rgba(60, 64, 67, 0.15);\n",
              "    fill: var(--button-hover-fill-color);\n",
              "  }\n",
              "\n",
              "  .colab-df-quickchart-complete:disabled,\n",
              "  .colab-df-quickchart-complete:disabled:hover {\n",
              "    background-color: var(--disabled-bg-color);\n",
              "    fill: var(--disabled-fill-color);\n",
              "    box-shadow: none;\n",
              "  }\n",
              "\n",
              "  .colab-df-spinner {\n",
              "    border: 2px solid var(--fill-color);\n",
              "    border-color: transparent;\n",
              "    border-bottom-color: var(--fill-color);\n",
              "    animation:\n",
              "      spin 1s steps(1) infinite;\n",
              "  }\n",
              "\n",
              "  @keyframes spin {\n",
              "    0% {\n",
              "      border-color: transparent;\n",
              "      border-bottom-color: var(--fill-color);\n",
              "      border-left-color: var(--fill-color);\n",
              "    }\n",
              "    20% {\n",
              "      border-color: transparent;\n",
              "      border-left-color: var(--fill-color);\n",
              "      border-top-color: var(--fill-color);\n",
              "    }\n",
              "    30% {\n",
              "      border-color: transparent;\n",
              "      border-left-color: var(--fill-color);\n",
              "      border-top-color: var(--fill-color);\n",
              "      border-right-color: var(--fill-color);\n",
              "    }\n",
              "    40% {\n",
              "      border-color: transparent;\n",
              "      border-right-color: var(--fill-color);\n",
              "      border-top-color: var(--fill-color);\n",
              "    }\n",
              "    60% {\n",
              "      border-color: transparent;\n",
              "      border-right-color: var(--fill-color);\n",
              "    }\n",
              "    80% {\n",
              "      border-color: transparent;\n",
              "      border-right-color: var(--fill-color);\n",
              "      border-bottom-color: var(--fill-color);\n",
              "    }\n",
              "    90% {\n",
              "      border-color: transparent;\n",
              "      border-bottom-color: var(--fill-color);\n",
              "    }\n",
              "  }\n",
              "</style>\n",
              "\n",
              "      <script>\n",
              "        async function quickchart(key) {\n",
              "          const quickchartButtonEl =\n",
              "            document.querySelector('#' + key + ' button');\n",
              "          quickchartButtonEl.disabled = true;  // To prevent multiple clicks.\n",
              "          quickchartButtonEl.classList.add('colab-df-spinner');\n",
              "          try {\n",
              "            const charts = await google.colab.kernel.invokeFunction(\n",
              "                'suggestCharts', [key], {});\n",
              "          } catch (error) {\n",
              "            console.error('Error during call to suggestCharts:', error);\n",
              "          }\n",
              "          quickchartButtonEl.classList.remove('colab-df-spinner');\n",
              "          quickchartButtonEl.classList.add('colab-df-quickchart-complete');\n",
              "        }\n",
              "        (() => {\n",
              "          let quickchartButtonEl =\n",
              "            document.querySelector('#df-0a1c903b-7e82-4710-99c1-7ad07abd2403 button');\n",
              "          quickchartButtonEl.style.display =\n",
              "            google.colab.kernel.accessAllowed ? 'block' : 'none';\n",
              "        })();\n",
              "      </script>\n",
              "    </div>\n",
              "\n",
              "  <div id=\"id_8791fd76-e97a-4740-8cc0-7f4144032bf0\">\n",
              "    <style>\n",
              "      .colab-df-generate {\n",
              "        background-color: #E8F0FE;\n",
              "        border: none;\n",
              "        border-radius: 50%;\n",
              "        cursor: pointer;\n",
              "        display: none;\n",
              "        fill: #1967D2;\n",
              "        height: 32px;\n",
              "        padding: 0 0 0 0;\n",
              "        width: 32px;\n",
              "      }\n",
              "\n",
              "      .colab-df-generate:hover {\n",
              "        background-color: #E2EBFA;\n",
              "        box-shadow: 0px 1px 2px rgba(60, 64, 67, 0.3), 0px 1px 3px 1px rgba(60, 64, 67, 0.15);\n",
              "        fill: #174EA6;\n",
              "      }\n",
              "\n",
              "      [theme=dark] .colab-df-generate {\n",
              "        background-color: #3B4455;\n",
              "        fill: #D2E3FC;\n",
              "      }\n",
              "\n",
              "      [theme=dark] .colab-df-generate:hover {\n",
              "        background-color: #434B5C;\n",
              "        box-shadow: 0px 1px 3px 1px rgba(0, 0, 0, 0.15);\n",
              "        filter: drop-shadow(0px 1px 2px rgba(0, 0, 0, 0.3));\n",
              "        fill: #FFFFFF;\n",
              "      }\n",
              "    </style>\n",
              "    <button class=\"colab-df-generate\" onclick=\"generateWithVariable('tabela')\"\n",
              "            title=\"Generate code using this dataframe.\"\n",
              "            style=\"display:none;\">\n",
              "\n",
              "  <svg xmlns=\"http://www.w3.org/2000/svg\" height=\"24px\"viewBox=\"0 0 24 24\"\n",
              "       width=\"24px\">\n",
              "    <path d=\"M7,19H8.4L18.45,9,17,7.55,7,17.6ZM5,21V16.75L18.45,3.32a2,2,0,0,1,2.83,0l1.4,1.43a1.91,1.91,0,0,1,.58,1.4,1.91,1.91,0,0,1-.58,1.4L9.25,21ZM18.45,9,17,7.55Zm-12,3A5.31,5.31,0,0,0,4.9,8.1,5.31,5.31,0,0,0,1,6.5,5.31,5.31,0,0,0,4.9,4.9,5.31,5.31,0,0,0,6.5,1,5.31,5.31,0,0,0,8.1,4.9,5.31,5.31,0,0,0,12,6.5,5.46,5.46,0,0,0,6.5,12Z\"/>\n",
              "  </svg>\n",
              "    </button>\n",
              "    <script>\n",
              "      (() => {\n",
              "      const buttonEl =\n",
              "        document.querySelector('#id_8791fd76-e97a-4740-8cc0-7f4144032bf0 button.colab-df-generate');\n",
              "      buttonEl.style.display =\n",
              "        google.colab.kernel.accessAllowed ? 'block' : 'none';\n",
              "\n",
              "      buttonEl.onclick = () => {\n",
              "        google.colab.notebook.generateWithVariable('tabela');\n",
              "      }\n",
              "      })();\n",
              "    </script>\n",
              "  </div>\n",
              "\n",
              "    </div>\n",
              "  </div>\n"
            ],
            "application/vnd.google.colaboratory.intrinsic+json": {
              "type": "dataframe",
              "variable_name": "tabela",
              "summary": "{\n  \"name\": \"tabela\",\n  \"rows\": 3,\n  \"fields\": [\n    {\n      \"column\": \"Nome\",\n      \"properties\": {\n        \"dtype\": \"string\",\n        \"num_unique_values\": 3,\n        \"samples\": [\n          \"Ana\",\n          \"Bruno\",\n          \"Carla\"\n        ],\n        \"semantic_type\": \"\",\n        \"description\": \"\"\n      }\n    },\n    {\n      \"column\": \"Idade\",\n      \"properties\": {\n        \"dtype\": \"number\",\n        \"std\": 1,\n        \"min\": 13,\n        \"max\": 15,\n        \"num_unique_values\": 3,\n        \"samples\": [\n          13,\n          14,\n          15\n        ],\n        \"semantic_type\": \"\",\n        \"description\": \"\"\n      }\n    },\n    {\n      \"column\": \"Altura\",\n      \"properties\": {\n        \"dtype\": \"number\",\n        \"std\": 0.07637626158259729,\n        \"min\": 1.55,\n        \"max\": 1.7,\n        \"num_unique_values\": 3,\n        \"samples\": [\n          1.6,\n          1.7,\n          1.55\n        ],\n        \"semantic_type\": \"\",\n        \"description\": \"\"\n      }\n    },\n    {\n      \"column\": \"CorFavorita\",\n      \"properties\": {\n        \"dtype\": \"string\",\n        \"num_unique_values\": 3,\n        \"samples\": [\n          \"Azul\",\n          \"Verde\",\n          \"Vermelho\"\n        ],\n        \"semantic_type\": \"\",\n        \"description\": \"\"\n      }\n    },\n    {\n      \"column\": \"Escolaridade\",\n      \"properties\": {\n        \"dtype\": \"string\",\n        \"num_unique_values\": 3,\n        \"samples\": [\n          \"Fundamental\",\n          \"M\\u00e9dio\",\n          \"Superior\"\n        ],\n        \"semantic_type\": \"\",\n        \"description\": \"\"\n      }\n    }\n  ]\n}"
            }
          },
          "metadata": {},
          "execution_count": 9
        }
      ],
      "source": [
        "\n",
        "import pandas as pd #importa a biblioteca para trabalhar com tabelas de dados (como se fossem planilhas do Excel). Da um apelido \"PD\", permite ler arquivos e analisar dados.\n",
        "\n",
        "dados = {\n",
        "    \"Nome\": [\"Ana\", \"Bruno\", \"Carla\"],\n",
        "    \"Idade\": [13, 14, 15],  # Numérico discreto\n",
        "    \"Altura\": [1.60, 1.70, 1.55],  # Numérico contínuo\n",
        "    \"CorFavorita\": [\"Azul\", \"Verde\", \"Vermelho\"],  # Categórico nominal\n",
        "    \"Escolaridade\": [\"Fundamental\", \"Médio\", \"Superior\"]  # Categórico ordinal\n",
        "}\n",
        "\n",
        "tabela = pd.DataFrame(dados)\n",
        "tabela\n"
      ]
    },
    {
      "cell_type": "code",
      "source": [],
      "metadata": {
        "id": "NZdChmCcsR3c"
      },
      "id": "NZdChmCcsR3c",
      "execution_count": null,
      "outputs": []
    },
    {
      "cell_type": "markdown",
      "id": "cc84b5c3",
      "metadata": {
        "id": "cc84b5c3"
      },
      "source": [
        "## **Qualidade dos dados (problemas comuns)**\n",
        "---\n",
        "\n",
        "\n",
        "Qualidade de dados é a importancia em ter dados precisos, completos, consistentes, atualizados e confiáveis para suportar decisões e processos.\n",
        "\n",
        "**🔧 Solução**\n",
        "\n",
        "Limpeza, padronização e preparação dos dados.\n",
        "\n",
        "\n"
      ]
    },
    {
      "cell_type": "markdown",
      "source": [
        "\n",
        "\n",
        "1. **Incompletos:** valores faltando.  \n",
        "👉 Ex: cliente sem data de nascimento.  "
      ],
      "metadata": {
        "id": "fKWYf1-QfAjf"
      },
      "id": "fKWYf1-QfAjf"
    },
    {
      "cell_type": "markdown",
      "source": [
        "2. **Erros/ruídos:** valores impossíveis/\n",
        "incorretos.  \n",
        "👉 Ex: idade = 200 anos.  \n",
        "\n"
      ],
      "metadata": {
        "id": "Rq8uvBcyfEVX"
      },
      "id": "Rq8uvBcyfEVX"
    },
    {
      "cell_type": "markdown",
      "source": [
        "3. **Duplicados:** mesmo registro repetidos.  "
      ],
      "metadata": {
        "id": "Lb9Gbp4VfNli"
      },
      "id": "Lb9Gbp4VfNli"
    },
    {
      "cell_type": "markdown",
      "source": [
        "4. **Não consistentes:** formatos diferentes.  \n",
        "👉 Ex: \"SP\" e \"São Paulo\".  \n"
      ],
      "metadata": {
        "id": "GUaiDZLmfQ98"
      },
      "id": "GUaiDZLmfQ98"
    },
    {
      "cell_type": "markdown",
      "source": [
        "**Exemplos de dados de baixa qualidade**\n",
        "\n",
        "O código a baixo é um exemplo de baixa qualidade. Ele em si não vai dar erro de execução, não está “errado” tecnicamente, mas os dados que ele cria são de baixa qualidade, e se você tentar analisar sem limpar, os resultados serão incorretos ou confusos. É por isso que depois precisamos fazer a limpeza, padronização e remoção dos dados duplicados."
      ],
      "metadata": {
        "id": "5F7KgNNbh4XN"
      },
      "id": "5F7KgNNbh4XN"
    },
    {
      "cell_type": "code",
      "source": [
        "import pandas as pd\n",
        "\n",
        "# DataFrame com múltiplos problemas\n",
        "dados = pd.DataFrame({\n",
        "    'nome': ['Ana', 'Bruno', 'Carla', 'Ana', 'Pedro', 'Lucas', None],\n",
        "    'idade': [23, 200, 28, 23, -5, 35, 40],  # idades erradas\n",
        "    'data_nascimento': ['2000-05-12', None, '1995-09-20', '2000-05-12', '2010-01-01', '1988-07-07', None],\n",
        "    'estado': ['SP', 'São Paulo', 'RJ', 'SP', 'rj', 'MG', 'Minas Gerais']  # inconsistências\n",
        "})\n",
        "\n",
        "print(\"=== Dados originais com problemas ===\")\n",
        "print(dados)\n"
      ],
      "metadata": {
        "colab": {
          "base_uri": "https://localhost:8080/"
        },
        "id": "1JmN-hhxh98L",
        "outputId": "da2629a6-e9f8-4ee0-de5e-7491932ac762"
      },
      "id": "1JmN-hhxh98L",
      "execution_count": null,
      "outputs": [
        {
          "output_type": "stream",
          "name": "stdout",
          "text": [
            "=== Dados originais com problemas ===\n",
            "    nome  idade data_nascimento        estado\n",
            "0    Ana     23      2000-05-12            SP\n",
            "1  Bruno    200            None     São Paulo\n",
            "2  Carla     28      1995-09-20            RJ\n",
            "3    Ana     23      2000-05-12            SP\n",
            "4  Pedro     -5      2010-01-01            rj\n",
            "5  Lucas     35      1988-07-07            MG\n",
            "6   None     40            None  Minas Gerais\n"
          ]
        }
      ]
    },
    {
      "cell_type": "markdown",
      "source": [
        "**Limpeza e padronização**"
      ],
      "metadata": {
        "id": "qfapiTKVsbc5"
      },
      "id": "qfapiTKVsbc5"
    },
    {
      "cell_type": "code",
      "source": [
        "\n",
        "# 1. Preencher valores faltantes ou remover linhas sem nome\n",
        "dados['nome'] = dados['nome'].fillna('Desconhecido')\n",
        "dados['data_nascimento'] = dados['data_nascimento'].fillna('1990-01-01')\n",
        "\n",
        "# 2. Corrigir idades impossíveis\n",
        "dados.loc[dados['idade'] > 120, 'idade'] = 30  # idade máxima plausível\n",
        "dados.loc[dados['idade'] < 0, 'idade'] = 30   # idade mínima plausível\n",
        "\n",
        "# 3. Remover duplicados\n",
        "dados.drop_duplicates(inplace=True)\n",
        "\n",
        "# 4. Padronizar estados\n",
        "dados['estado'] = dados['estado'].str.upper().replace({'SÃO PAULO': 'SP', 'Rj': 'RJ', 'MINAS GERAIS': 'MG'})\n",
        "\n",
        "print(\"\\n=== Dados limpos e padronizados ===\")\n",
        "print(dados)\n"
      ],
      "metadata": {
        "colab": {
          "base_uri": "https://localhost:8080/"
        },
        "id": "_6wx4b38jq2M",
        "outputId": "5744361c-d92d-46e8-8eb0-96220dc0733c"
      },
      "id": "_6wx4b38jq2M",
      "execution_count": null,
      "outputs": [
        {
          "output_type": "stream",
          "name": "stdout",
          "text": [
            "\n",
            "=== Dados limpos e padronizados ===\n",
            "           nome  idade data_nascimento estado\n",
            "0           Ana     23      2000-05-12     SP\n",
            "1         Bruno     30      1990-01-01     SP\n",
            "2         Carla     28      1995-09-20     RJ\n",
            "4         Pedro     30      2010-01-01     RJ\n",
            "5         Lucas     35      1988-07-07     MG\n",
            "6  Desconhecido     40      1990-01-01     MG\n"
          ]
        }
      ]
    },
    {
      "cell_type": "markdown",
      "source": [
        "As dimensões da qualidade dos dados são critérios usados para avaliar se os dados são adequados para análise e mineração. As mais comuns são:\n",
        "\n",
        "**Completude –** se não há valores ausentes (dados faltantes).\n",
        "\n",
        "**Consistência –** se não existem contradições entre os dados (ex: mesma pessoa com datas de nascimento diferentes).\n",
        "\n",
        "**Acurácia (ou exatidão) –** se os valores representam corretamente a realidade.\n",
        "\n",
        "**Confiabilidade –** se a fonte dos dados é confiável.\n",
        "\n",
        "**Atualidade (ou temporalidade) –** se os dados estão atualizados e dentro do período de interesse.\n",
        "\n",
        "**Singularidade (ou unicidade) –** se não há duplicatas ou registros redundantes.\n",
        "\n",
        "**Validade (ou conformidade) –** se os dados estão no formato correto (ex: CEP com 8 dígitos, data válida).\n",
        "\n",
        "**Relevância –** se os dados realmente são úteis para o objetivo do negócio.\n",
        "\n",
        "👉 Geralmente aparecem Completude, Consistência, Singularidade, Acurácia e Atualidade como as principais."
      ],
      "metadata": {
        "id": "K9cPhOm0gtMA"
      },
      "id": "K9cPhOm0gtMA"
    },
    {
      "cell_type": "markdown",
      "source": [
        "| **Dimensão**       | **Descrição**                                  | **Exemplo**                                                                |\n",
        "| ------------------ | ---------------------------------------------- | -------------------------------------------------------------------------- |\n",
        "| **Completude**     | Ausência de valores faltantes.                 | 20% dos clientes sem CPF no cadastro → problema de completude.             |\n",
        "| **Consistência**   | Dados não se contradizem entre si.             | Em um sistema, cliente tem “Data de Nascimento = 2000” e em outro “1995”.  |\n",
        "| **Acurácia**       | Representa corretamente a realidade.           | Endereço cadastrado como \"Rua A\" mas o correto é \"Rua B\".                  |\n",
        "| **Atualidade**     | Dados estão atualizados no tempo certo.        | Telefone de contato de um cliente antigo que já mudou de número.           |\n",
        "| **Singularidade**  | Evita duplicações de registros.                | O mesmo cliente aparece 3 vezes na base com nomes diferentes.              |\n",
        "| **Validade**       | Respeita regras de formato/padrão.             | Campo “CEP” com 6 dígitos (inválido, deveria ter 8).                       |\n",
        "| **Confiabilidade** | Fonte dos dados é segura e verificável.        | Dados vindos de pesquisa oficial vs. dados de redes sociais sem validação. |\n",
        "| **Relevância**     | Os dados são úteis para o objetivo do negócio. | Guardar “cor do carro” em uma base de churn bancário (não relevante).      |\n"
      ],
      "metadata": {
        "id": "aKQ7qxqGhmGD"
      },
      "id": "aKQ7qxqGhmGD"
    },
    {
      "cell_type": "markdown",
      "id": "6f945555",
      "metadata": {
        "id": "6f945555"
      },
      "source": [
        "# **KDD (Knowledge Discovery in Databases)**\n",
        "\n",
        "\n",
        "---\n",
        "\n",
        "* É um processo mais teórico e acadêmico, criado nos anos 90.\n",
        "\n",
        "* **Para descobrir conhecimento escondido nos dados**.  \n",
        "\n",
        "* O que motivou o KDD?  \n",
        "➡ Muita informação + Tecnologia + Necessidade de entender → **É ai que o KDD se torna essencial**.\n",
        "\n",
        "* A mineração de dados é apenas **uma etapa** dentro do KDD.  \n",
        "\n",
        "* O foco é explicar o caminho para transformar dados crus em conhecimento útil.\n",
        "\n",
        "* Divide o trabalho em etapas lógicas: Seleção → Pré-processamento (limpeza) → Transformação → Mineração → Interpretação.\n",
        "\n",
        "* Você usaria, por exemplo, quando quiser explicar de forma conceitual **como os dados brutos viram informação e conhecimento** (ótimo para estudos, relatórios ou base acadêmica).\n",
        "\n",
        "🚖 A baixo, temos **um exemplo** didático onde **O objetivo é apenas descobrir conhecimento**, mostrando as 5 principais etapas do KDD aplicadas para descobrir \"Qual o melhor horário para chamar Uber em São Paulo\". NÃO estamos tentando criar um modelo preditivo* ou automatizar decisões*, apenas analisar os dados e achar padrões.\n",
        "\n",
        "* Primeiro passo prático no Python → criar (ou carregar) o DataFrame*."
      ]
    },
    {
      "cell_type": "code",
      "source": [
        "\n",
        "import pandas as pd      # Pandas é usado para criar e manipular tabelas (DataFrames) de forma fácil\n",
        "import numpy as np       # NumPy é usado para trabalhar com números, criar arrays e gerar números aleatórios\n",
        "import matplotlib.pyplot as plt  # Matplotlib permite criar gráficos como linhas, barras e dispersão\n",
        "import seaborn as sns    # Seaborn é uma camada sobre Matplotlib, facilita criar gráficos bonitos e com mais informações\n",
        "\n",
        "sns.set(style=\"whitegrid\")  # Configura o estilo padrão dos gráficos do Seaborn com um fundo branco e linhas de grade\n"
      ],
      "metadata": {
        "id": "WyQe4gnRmkpk"
      },
      "id": "WyQe4gnRmkpk",
      "execution_count": null,
      "outputs": []
    },
    {
      "cell_type": "markdown",
      "source": [
        "## 1️⃣ **Seleção de Dados:** Escolher quais informações vamos usar, ou seja, só o que importa.\n",
        "\n",
        "🤷 **O que fazemos:**\n",
        "\n",
        "Pegamos só as informações que vão ajudar a responder a pergunta.\n",
        "\n",
        "**🚖 Exemplo com Uber:**\n",
        "\n",
        "* Selecionamos somente os dados relevantes →  hora da corrida, tempo de espera, bairro de origem.\n",
        "\n",
        "* Não precisamos de coisas como nome do motorista ou modelo do carro, porque não ajudam a descobrir o melhor horário.\n",
        "#\n",
        "💡 **Por que é importante:** São os dados que importam para descobrir quando é melhor chamar Uber. É como escolher só os ingredientes certos para fazer uma receita. Se for bolo, você não precisa de salame. 🍰"
      ],
      "metadata": {
        "id": "gXFkIAchu2Sr"
      },
      "id": "gXFkIAchu2Sr"
    },
    {
      "cell_type": "code",
      "source": [
        "# Importar bibliotecas\n",
        "import pandas as pd\n",
        "import numpy as np\n",
        "\n",
        "# Configurar aleatoriedade\n",
        "np.random.seed(42)\n",
        "\n",
        "# Gerar horas e minutos aleatórios\n",
        "horas = np.random.randint(0, 24, 1000)\n",
        "minutos = np.random.randint(0, 60, 1000)\n",
        "horario = [f\"{h:02d}:{m:02d}\" for h, m in zip(horas, minutos)]\n",
        "\n",
        "# Gerar tempos de espera (em minutos)\n",
        "tempo_espera = np.random.normal(loc=10, scale=5, size=1000)\n",
        "tempo_espera = np.clip(tempo_espera, 0, None).round().astype(int)\n",
        "\n",
        "# Escolher bairros aleatórios\n",
        "bairros = np.random.choice(['Centro', 'Mauá', 'Santo André', 'São Caetano'], 1000)\n",
        "\n",
        "# Criar DataFrame final\n",
        "dados = pd.DataFrame({\n",
        "    'Horário': horario,\n",
        "    'Tempo espera em minutos': tempo_espera,\n",
        "    'Bairro': bairros\n",
        "})\n",
        "\n",
        "print(\"\\n=== Dados originais ===\\n\")\n",
        "print(dados.head(10))\n",
        "print(\"\\n\")"
      ],
      "metadata": {
        "colab": {
          "base_uri": "https://localhost:8080/"
        },
        "id": "y2fkpvw5nEOl",
        "outputId": "62f7aa22-942e-4c34-d02d-8b713faa86aa"
      },
      "id": "y2fkpvw5nEOl",
      "execution_count": null,
      "outputs": [
        {
          "output_type": "stream",
          "name": "stdout",
          "text": [
            "\n",
            "=== Dados originais ===\n",
            "\n",
            "  Horário  Tempo espera em minutos       Bairro\n",
            "0   06:46                        9  São Caetano\n",
            "1   19:00                       13         Mauá\n",
            "2   14:25                        4       Centro\n",
            "3   10:13                       18         Mauá\n",
            "4   07:37                       14  Santo André\n",
            "5   20:36                        9  Santo André\n",
            "6   06:10                        6  São Caetano\n",
            "7   18:35                        7       Centro\n",
            "8   22:12                       10       Centro\n",
            "9   10:42                        9  São Caetano\n",
            "\n",
            "\n"
          ]
        }
      ]
    },
    {
      "cell_type": "markdown",
      "source": [
        "## 2️⃣ **Pré-processamento:** Corrigimos problemas nos dados para que fiquem organizados, confiáveis e prontos para análise, tipo:\n",
        "#\n",
        "🤷 **Problemas comuns que resolvemos:**\n",
        "#\n",
        "* **Outliers →** valores muito diferentes que não fazem sentido.\n",
        "\n",
        "🚖 Exemplo: tempo de espera negativo → ajustamos para 0.\n",
        "\n",
        "* **Valores faltantes →** dados que estão vazios.\n",
        "\n",
        "🚖 Exemplo: passageiro sem data de nascimento.\n",
        "\n",
        "* **Erros →** números impossíveis ou incorretos.\n",
        "\n",
        "🚖 Exemplo: idade = 200 anos.\n",
        "\n",
        "* **Duplicados →** registros repetidos.\n",
        "\n",
        "🚖 Exemplo: mesmo pedido registrado duas vezes.\n",
        "\n",
        "* **Inconsistências →** formatos diferentes para a mesma informação.\n",
        "\n",
        "🚖 Exemplo: nomes de bairros: \"SP\" e \"sao paulo\" → mudamos tudo pra um nome só → \"São Paulo\"\n",
        "#\n",
        "💡 **Por que é importante:**\n",
        "\n",
        "Dados sujos atrapalham os resultados. O computador precisa que tudo esteja organizado e consistente para descobrir padrões corretos."
      ],
      "metadata": {
        "id": "86DmbQHcmJq-"
      },
      "id": "86DmbQHcmJq-"
    },
    {
      "cell_type": "code",
      "source": [
        "# Aqui não temos valores faltando ou duplicados, mas vamos simular e corrigir\n",
        "dados.loc[5, 'Tempo espera em minutos'] = -3  # valor impossível\n",
        "dados.loc[7, 'Bairro'] = 'centro'  # inconsistência de formato\n",
        "\n",
        "# Corrigir valores negativos e padronizar nomes\n",
        "dados['Tempo espera em minutos'] = dados['Tempo espera em minutos'].clip(lower=0)\n",
        "dados['Bairro'] = dados['Bairro'].str.title()  # padroniza maiúscula inicial\n",
        "\n",
        "print(\"\\n=== Dados limpos ===\\n\")\n",
        "print(dados.head(10))\n"
      ],
      "metadata": {
        "colab": {
          "base_uri": "https://localhost:8080/"
        },
        "id": "9s2ykwp_nD8r",
        "outputId": "66dd1b56-1307-4a6d-abb5-1dffed36c04d"
      },
      "id": "9s2ykwp_nD8r",
      "execution_count": null,
      "outputs": [
        {
          "output_type": "stream",
          "name": "stdout",
          "text": [
            "\n",
            "=== Dados limpos ===\n",
            "\n",
            "  Horário  Tempo espera em minutos       Bairro\n",
            "0   06:46                        9  São Caetano\n",
            "1   19:00                       13         Mauá\n",
            "2   14:25                        4       Centro\n",
            "3   10:13                       18         Mauá\n",
            "4   07:37                       14  Santo André\n",
            "5   20:36                        0  Santo André\n",
            "6   06:10                        6  São Caetano\n",
            "7   18:35                        7       Centro\n",
            "8   22:12                       10       Centro\n",
            "9   10:42                        9  São Caetano\n"
          ]
        }
      ]
    },
    {
      "cell_type": "markdown",
      "source": [
        "## 3️⃣ **Transformação:** Preparamos os dados para facilitar a análise. Extraimos informações úteis, organizando/formatando, agrupando ou criando novas variáveis para análise.\n",
        "🤷 **O que fazemos:**\n",
        "\n",
        "* Criamos novas informações a partir dos dados existentes.\n",
        "\n",
        "* Mudamos formatos para deixar tudo mais fácil de comparar.\n",
        "\n",
        ".\n",
        "\n",
        "**🚖 Exemplo com Uber:**\n",
        "\n",
        "* Transformar horário em categorias (madrugada,manhã/tarde/noite).\n",
        "\n",
        "* Criamos uma coluna dizendo se o tempo de espera foi curto (até 5 min), médio (6–15 min) ou longo (mais de 15 min).\n",
        "#\n",
        "💡 **Por que é importante:** Assim, conseguimos ver padrões que ficariam escondidos se olhássemos só os números brutos. Fica mais fácil comparar, em vez de olhar 1000 horários diferentes."
      ],
      "metadata": {
        "id": "fCbGbFM0mMAS"
      },
      "id": "fCbGbFM0mMAS"
    },
    {
      "cell_type": "code",
      "source": [
        "# Transformar horário em \"faixa do dia\"\n",
        "def faixa_dia(horario):\n",
        "    hora = int(horario.split(\":\")[0])\n",
        "    if 5 <= hora < 12:\n",
        "        return 'Manhã'\n",
        "    elif 12 <= hora < 18:\n",
        "        return 'Tarde'\n",
        "    elif 18 <= hora < 23:\n",
        "        return 'Noite'\n",
        "    else:\n",
        "        return 'Madrugada'\n",
        "\n",
        "dados['Faixa do dia'] = dados['Horário'].apply(faixa_dia)\n",
        "\n",
        "print(\"\\n=== Dados transformados ===\\n\")\n",
        "print(dados.head(10))\n"
      ],
      "metadata": {
        "id": "SiJbOsgk2kya",
        "outputId": "664721c5-b4b6-4bf7-9bcc-f7f502deed11",
        "colab": {
          "base_uri": "https://localhost:8080/"
        }
      },
      "id": "SiJbOsgk2kya",
      "execution_count": null,
      "outputs": [
        {
          "output_type": "stream",
          "name": "stdout",
          "text": [
            "\n",
            "=== Dados transformados ===\n",
            "\n",
            "  Horário  Tempo espera em minutos       Bairro Faixa do dia\n",
            "0   06:46                        9  São Caetano        Manhã\n",
            "1   19:00                       13         Mauá        Noite\n",
            "2   14:25                        4       Centro        Tarde\n",
            "3   10:13                       18         Mauá        Manhã\n",
            "4   07:37                       14  Santo André        Manhã\n",
            "5   20:36                        0  Santo André        Noite\n",
            "6   06:10                        6  São Caetano        Manhã\n",
            "7   18:35                        7       Centro        Noite\n",
            "8   22:12                       10       Centro        Noite\n",
            "9   10:42                        9  São Caetano        Manhã\n"
          ]
        }
      ]
    },
    {
      "cell_type": "markdown",
      "source": [
        "## 4️⃣ **Mineração de Dados:** Achar padrões, médias, associações, clusters*  — ou seja, você extrai informação dos dados sem (contexto).\n",
        "\n",
        "**🤷 O que fazemos:**\n",
        "\n",
        "* Rodamos cálculos e análises para descobrir informações novas.\n",
        "\n",
        "**🚖 Exemplo com Uber:**\n",
        "\n",
        "* Calcular o tempo médio de espera em cada faixa do dia.\n",
        "\n",
        "* Ver em quais bairros o tempo de espera é maior ou menor.\n",
        "\n",
        "💡 **Por que é importante:**\n",
        "Aqui é onde a gente descobre as respostas escondidas nos dados. É tipo achar “o mapa do tesouro”. 🗺️"
      ],
      "metadata": {
        "id": "ZAf4fu1rmORy"
      },
      "id": "ZAf4fu1rmORy"
    },
    {
      "cell_type": "code",
      "source": [
        "# Calcular tempo médio de espera por faixa do dia e organizar bonito\n",
        "media_espera = dados.groupby('Faixa do dia')['Tempo espera em minutos'].mean().round(1).reset_index()\n",
        "\n",
        "# Renomear colunas para ficar mais claro\n",
        "media_espera.columns = ['Faixa do dia', 'Tempo médio de espera (min)']\n",
        "\n",
        "print(\"\\n=== Tempo médio de espera por faixa do dia ===\\n\")\n",
        "print(media_espera)\n"
      ],
      "metadata": {
        "id": "MFTuLLdF3IAO",
        "outputId": "cdb7688f-51f1-4183-c2e6-b7de09f82872",
        "colab": {
          "base_uri": "https://localhost:8080/"
        }
      },
      "id": "MFTuLLdF3IAO",
      "execution_count": null,
      "outputs": [
        {
          "output_type": "stream",
          "name": "stdout",
          "text": [
            "\n",
            "=== Tempo médio de espera por faixa do dia ===\n",
            "\n",
            "  Faixa do dia  Tempo médio de espera (min)\n",
            "0    Madrugada                          9.8\n",
            "1        Manhã                         10.3\n",
            "2        Noite                          9.7\n",
            "3        Tarde                         10.3\n"
          ]
        }
      ]
    },
    {
      "cell_type": "markdown",
      "source": [
        "## 5️⃣ **Interpretação e Avaliação:** Entendemos os resultados. Vemos se faz sentido.  \n",
        "#\n",
        "🤷 **O que fazemos:**\n",
        "\n",
        "Traduzimos os números para uma linguagem simples.\n",
        "\n",
        "🚖 **Exemplo com Uber:**\n",
        "\n",
        "* “À noite o tempo médio de espera é 9 minutos, de manhã é 14 minutos.”\n",
        "\n",
        "* “No Centro acontecem mais cancelamentos que em Santo André.”\n",
        "\n",
        "* Conferimos se os horários de pico batem com o real.\n",
        "\n",
        "💡 **Por que é importante:**\n",
        "Não adianta achar padrões se ninguém entender o que eles querem dizer.\n"
      ],
      "metadata": {
        "id": "QtJHt4pBmQeN"
      },
      "id": "QtJHt4pBmQeN"
    },
    {
      "cell_type": "code",
      "source": [
        "# Calcular tempo médio de espera por faixa do dia\n",
        "media_espera = dados.groupby('Faixa do dia')['Tempo espera em minutos'].mean().round(1)\n",
        "\n",
        "# Encontrar melhor faixa do dia (menor tempo médio)\n",
        "melhor_faixa = media_espera.idxmin()\n",
        "tempo_medio = media_espera.min()\n",
        "\n",
        "# Apresentação\n",
        "print(\"\\n=== Melhor horário para chamar Uber ===\\n\")  # pula uma linha antes e depois do título\n",
        "print(f\"Faixa do dia: {melhor_faixa}\\n\")             # pula uma linha após a faixa\n",
        "print(f\"Tempo médio de espera: {tempo_medio} minutos\\n\")  # pula uma linha no final\n"
      ],
      "metadata": {
        "id": "t6l7EVar5h-M",
        "outputId": "e0d9d7af-5333-43e7-9e5d-940a853e414b",
        "colab": {
          "base_uri": "https://localhost:8080/"
        }
      },
      "id": "t6l7EVar5h-M",
      "execution_count": null,
      "outputs": [
        {
          "output_type": "stream",
          "name": "stdout",
          "text": [
            "\n",
            "=== Melhor horário para chamar Uber ===\n",
            "\n",
            "Faixa do dia: Noite\n",
            "\n",
            "Tempo médio de espera: 9.7 minutos\n",
            "\n"
          ]
        }
      ]
    },
    {
      "cell_type": "markdown",
      "source": [
        "\n",
        "## 6️⃣ **Apresentação do Conhecimento:** Mostramos esse conhecimento de um jeito fácil de entender.\n",
        "\n",
        "**🤷 O que fazemos:**\n",
        "\n",
        "* Pegamos os resultados da mineração de dados e mostramos de um jeito claro, com gráficos, tabelas ou resumos.\n",
        "\n",
        "* A ideia é que qualquer pessoa entenda, mesmo quem não entende nada de programação ou estatística.\n",
        "\n",
        "🚖 **Exemplo com Uber:**\n",
        "\n",
        "* Criamos um gráfico mostrando o tempo médio de espera em cada faixa do dia (manhã, tarde, noite, madrugada).\n",
        "\n",
        "* Mostramos uma tabelinha simples com os bairros que mais têm cancelamentos.\n",
        "\n",
        "💡 **Por que é importante:**\n",
        "\n",
        "De nada adianta descobrir padrões se ninguém consegue entender. A apresentação transforma o que o computador achou em algo que realmente ajuda a tomar decisões.\n"
      ],
      "metadata": {
        "id": "cgi1VyismTGs"
      },
      "id": "cgi1VyismTGs"
    },
    {
      "cell_type": "code",
      "source": [
        "# Importar bibliotecas para gráficos\n",
        "import matplotlib.pyplot as plt\n",
        "import seaborn as sns\n",
        "\n",
        "# Configura o estilo dos gráficos\n",
        "sns.set(style=\"whitegrid\")\n",
        "\n",
        "# Calcular tempo médio de espera por faixa do dia\n",
        "media_espera = dados.groupby('Faixa do dia')['Tempo espera em minutos'].mean().round(1)\n",
        "\n",
        "# Descobrir melhor faixa do dia\n",
        "melhor_faixa = media_espera.idxmin()\n",
        "tempo_medio = media_espera.min()\n",
        "\n",
        "# Definir cores fixas para as faixas\n",
        "cores = [\"black\", \"darkred\", \"darkblue\", \"darkorange\"]\n",
        "\n",
        "# === Gráfico de barras da média de espera por faixa do dia ===\n",
        "plt.figure(figsize=(8,5))\n",
        "sns.barplot(x=media_espera.index, y=media_espera.values, palette=cores)\n",
        "plt.title(\"Tempo médio de espera por faixa do dia\", fontsize=14, fontweight=\"bold\")\n",
        "plt.ylabel(\"Tempo médio de espera (minutos)\")\n",
        "plt.xlabel(\"Faixa do dia\")\n",
        "\n",
        "# Destacar a melhor faixa do dia (borda preta)\n",
        "plt.bar(melhor_faixa, tempo_medio, color='goldenrod', edgecolor='black')\n",
        "plt.text(media_espera.index.get_loc(melhor_faixa), tempo_medio+0.3,\n",
        "         f\"{tempo_medio} min\",\n",
        "         ha='center', fontweight='bold', color='black')\n",
        "\n",
        "plt.show()\n",
        "\n",
        "# === Apresentação textual estilizada ===\n",
        "print(\"\\n\" + \"=\"*40)\n",
        "print(\" 🚖  Melhor horário para chamar Uber 🚖 \")\n",
        "print(\"=\"*40)\n",
        "print(f\"Faixa do dia: {melhor_faixa}\")\n",
        "print(f\"Tempo médio de espera: {tempo_medio} minutos\")\n",
        "print(\"=\"*40)\n"
      ],
      "metadata": {
        "id": "iZd3IKXT8iss",
        "outputId": "2ddd44c1-6d8a-4cd2-d72f-f9e788c0282d",
        "colab": {
          "base_uri": "https://localhost:8080/",
          "height": 726
        }
      },
      "id": "iZd3IKXT8iss",
      "execution_count": null,
      "outputs": [
        {
          "output_type": "stream",
          "name": "stderr",
          "text": [
            "/tmp/ipython-input-3447763650.py:20: FutureWarning: \n",
            "\n",
            "Passing `palette` without assigning `hue` is deprecated and will be removed in v0.14.0. Assign the `x` variable to `hue` and set `legend=False` for the same effect.\n",
            "\n",
            "  sns.barplot(x=media_espera.index, y=media_espera.values, palette=cores)\n"
          ]
        },
        {
          "output_type": "display_data",
          "data": {
            "text/plain": [
              "<Figure size 800x500 with 1 Axes>"
            ],
            "image/png": "[encoded data removed]"
          },
          "metadata": {}
        },
        {
          "output_type": "stream",
          "name": "stdout",
          "text": [
            "\n",
            "========================================\n",
            " 🚖  Melhor horário para chamar Uber 🚖 \n",
            "========================================\n",
            "Faixa do dia: Noite\n",
            "Tempo médio de espera: 9.7 minutos\n",
            "========================================\n"
          ]
        }
      ]
    },
    {
      "cell_type": "markdown",
      "id": "8c75ec5c",
      "metadata": {
        "id": "8c75ec5c"
      },
      "source": [
        "\n",
        "---\n",
        "\n",
        "# **CRISP-DM (modelo para projetos de mineração de dados)**\n",
        "\n",
        "* O CRISP-DM é tipo um **passo a passo para resolver problemas com dados**. Imagina que você vai fazer um bolo: tem uma receita com várias etapas (pegar ingredientes, misturar, assar, provar...).\n",
        "O CRISP-DM é isso, só que para projetos de dados.\n",
        "\n",
        "* São um total de 6 etapas cíclicas.\n",
        "\n",
        "* Falamos que são etapas cíclicas, porque não é uma linha reta, ou seja, se o modelo ficou ruim, você volta e arruma os dados.\n",
        "\n",
        "🚖 Vamos usar o mesmo **exemplo do Uber** que usamos para o KDD (dados de horários, bairros e tempo de espera). **Criando um modelo que diga a probabilidade de um passageiro cancelar e avisar o motorista** e mostrar como ficaria o processo no CRISP-DM."
      ]
    },
    {
      "cell_type": "markdown",
      "source": [
        "## **1️⃣ Entendimento do Negócio**\n",
        "\n",
        "\n",
        "\n",
        "### **🤷 O que fazemos**\n",
        "\n",
        "* Entender o que a empresa quer alcançar e qual problema precisa resolver.\n",
        "* Nessa etapa quase nunca tem código. Aqui você nem precisa abrir o Python ainda, porque nessa fase você só defini o que você quer antes de começar. É mais conversa com o time ou stakeholders *, planejamento e análise do problema.\n",
        "\n",
        "**Pergunta que queremos responder:**\n",
        "\n",
        "“Qual a probabilidade de um passageiro cancelar a viagem e avisar o motorista?”\n",
        "#\n",
        "**Objetivo do negócio (🚖 Exemplo com Uber):**\n",
        "\n",
        "* Diminuir cancelamentos.\n",
        "* Se soubermos a chance de cancelamento, o motorista pode ser avisado ou receber incentivos.\n",
        "#\n",
        "**💡 Por que é importante:**\n",
        "#\n",
        "Se não entendermos o objetivo, vamos acabar analisando dados e descobrindo padrões que em vão, que não ajudam a resolver o problema real."
      ],
      "metadata": {
        "id": "TXIVpwgbph67"
      },
      "id": "TXIVpwgbph67"
    },
    {
      "cell_type": "markdown",
      "source": [
        "## **1️⃣ / 2️⃣ Etapa preliminar**: carregar/criar DataFrame*\n",
        "\n",
        "* Trazer os dados para dentro do Python, para podermos trabalhar a partir da Etapa 2 (Entendimento dos Dados).\n",
        "\n",
        "* Primeiro criamos o DataFrame com os 10 registros que temos, para poder executar todo o fluxo."
      ],
      "metadata": {
        "id": "x_Ns33QmaODK"
      },
      "id": "x_Ns33QmaODK"
    },
    {
      "cell_type": "code",
      "source": [
        "# ETAPA PRELIMINAR: Criar o DataFrame com os dados originais fornecidos\n",
        "import pandas as pd\n",
        "import numpy as np\n",
        "\n",
        "# Criando os 10 registros exatamente como temos\n",
        "dados = pd.DataFrame({\n",
        "    'Horário': ['06:46','19:00','14:25','10:13','07:37','20:36','06:10','18:35','22:12','10:42'],\n",
        "    'Tempo espera em minutos': [9,13,4,18,14,9,6,7,10,9],\n",
        "    'Bairro': ['São Caetano','Mauá','Centro','Mauá','Santo André','Santo André','São Caetano','Centro','Centro','São Caetano']\n",
        "})\n",
        "\n",
        "# Mostrar os dados para conferir\n",
        "print(\"=== Dados originais ===\\n\")\n",
        "print(dados)\n"
      ],
      "metadata": {
        "colab": {
          "base_uri": "https://localhost:8080/"
        },
        "id": "3-J0zY8hdHIK",
        "outputId": "36515bba-566c-4359-ab79-419c4d0ab56b"
      },
      "id": "3-J0zY8hdHIK",
      "execution_count": null,
      "outputs": [
        {
          "output_type": "stream",
          "name": "stdout",
          "text": [
            "=== Dados originais ===\n",
            "\n",
            "  Horário  Tempo espera em minutos       Bairro\n",
            "0   06:46                        9  São Caetano\n",
            "1   19:00                       13         Mauá\n",
            "2   14:25                        4       Centro\n",
            "3   10:13                       18         Mauá\n",
            "4   07:37                       14  Santo André\n",
            "5   20:36                        9  Santo André\n",
            "6   06:10                        6  São Caetano\n",
            "7   18:35                        7       Centro\n",
            "8   22:12                       10       Centro\n",
            "9   10:42                        9  São Caetano\n"
          ]
        }
      ]
    },
    {
      "cell_type": "markdown",
      "source": [
        "## **2️⃣ Entendimento dos Dados: Explorar os dados disponíveis**\n",
        "\n",
        "### **🤷 O que fazemos**\n",
        "\n",
        "Aqui você começa a explorar os dados, olhar problemas e decidir o que precisa limpar.\n",
        "\n",
        "**🚖 Exemplo com Uber:**\n",
        "#\n",
        "* **Temos:** horário da corrida, tempo de espera, bairro de origem.\n",
        "* **Precisamos checar:**\n",
        "\n",
        "1. Existem corridas com tempo negativo?\n",
        "\n",
        "2. Algum bairro escrito de forma errada?\n",
        "\n",
        "3. Alguma informação faltando?\n",
        "#\n",
        "**💡 Por que é importante:**\n",
        "#\n",
        "Se os dados tiverem muitos erros ou faltando informações, o modelo que prever cancelamentos pode não funcionar direito.\n"
      ],
      "metadata": {
        "id": "J586OEKBqYpl"
      },
      "id": "J586OEKBqYpl"
    },
    {
      "cell_type": "code",
      "source": [
        "# ETAPA 2: Entendimento dos dados — exploração prática\n",
        "import matplotlib.pyplot as plt\n",
        "import seaborn as sns\n",
        "\n",
        "sns.set(style=\"whitegrid\")\n",
        "\n",
        "# Criar colunas de Hora e Minuto\n",
        "dados['Hora'] = dados['Horário'].str.split(':').str[0].astype(int)\n",
        "dados['Minuto'] = dados['Horário'].str.split(':').str[1].astype(int)\n",
        "\n",
        "# 📊 1) Quantas corridas por bairro\n",
        "plt.figure(figsize=(6,4))\n",
        "sns.countplot(data=dados, x=\"Bairro\", hue=\"Bairro\", palette=\"Set2\", legend=False)\n",
        "plt.title(\"Número de corridas por bairro\", fontsize=13, fontweight=\"bold\")\n",
        "plt.xticks(rotation=30)\n",
        "plt.ylabel(\"Quantidade de corridas\")\n",
        "plt.show()\n",
        "\n",
        "# 📊 2) Tempo de espera médio por bairro\n",
        "plt.figure(figsize=(6,4))\n",
        "media_por_bairro = dados.groupby(\"Bairro\")[\"Tempo espera em minutos\"].mean().reset_index()\n",
        "sns.barplot(data=media_por_bairro, x=\"Bairro\", y=\"Tempo espera em minutos\", hue=\"Bairro\", palette=\"Set1\", legend=False)\n",
        "plt.title(\"Tempo médio de espera por bairro\", fontsize=13, fontweight=\"bold\")\n",
        "plt.xticks(rotation=30)\n",
        "plt.ylabel(\"Tempo médio de espera (min)\")\n",
        "plt.show()\n",
        "\n",
        "# 📊 3) Tempo médio de espera por hora do dia\n",
        "plt.figure(figsize=(8,4))\n",
        "media_por_hora = dados.groupby(\"Hora\")[\"Tempo espera em minutos\"].mean().reset_index()\n",
        "sns.lineplot(data=media_por_hora, x=\"Hora\", y=\"Tempo espera em minutos\", marker=\"o\", color=\"blue\")\n",
        "plt.title(\"Tempo médio de espera ao longo do dia\", fontsize=13, fontweight=\"bold\")\n",
        "plt.xlabel(\"Hora do dia\")\n",
        "plt.ylabel(\"Tempo médio de espera (min)\")\n",
        "plt.xticks(range(0,24))\n",
        "plt.show()\n"
      ],
      "metadata": {
        "id": "nLMTo6l4XHzx",
        "colab": {
          "base_uri": "https://localhost:8080/",
          "height": 1000
        },
        "outputId": "eac19d78-2d77-46f4-ec16-43a0a3df6d58"
      },
      "id": "nLMTo6l4XHzx",
      "execution_count": null,
      "outputs": [
        {
          "output_type": "display_data",
          "data": {
            "text/plain": [
              "<Figure size 600x400 with 1 Axes>"
            ],
            "image/png": "[encoded data removed]"
          },
          "metadata": {}
        },
        {
          "output_type": "display_data",
          "data": {
            "text/plain": [
              "<Figure size 600x400 with 1 Axes>"
            ],
            "image/png": "[encoded data removed]"
          },
          "metadata": {}
        },
        {
          "output_type": "display_data",
          "data": {
            "text/plain": [
              "<Figure size 800x400 with 1 Axes>"
            ],
            "image/png": "[encoded data removed]"
          },
          "metadata": {}
        }
      ]
    },
    {
      "cell_type": "markdown",
      "source": [
        "## **3️⃣ Preparação dos Dados: Limpar e organizar**\n",
        "\n",
        "**🤷 O que fazemos:**\n",
        "\n",
        "* Corrigir problemas nos dados e criar colunas úteis para o modelo.\n",
        "\n",
        "**🚖 Exemplo com Uber:**\n",
        "#\n",
        "* Outliers: tempo de espera negativo → ajustamos para 0.\n",
        "\n",
        "* **Inconsistências:** bairros escritos diferente → padronizamos.\n",
        "\n",
        "* **Novas variáveis:** criar “faixa do dia” a partir do horário; criar colunas dummy para bairros.\n",
        "\n",
        "* **Separar target:** criar coluna Cancelou? (0 = não, 1 = sim), que será a variável que o modelo vai prever.\n",
        "\n",
        "💡 **Por que é importante:**\n",
        "\n",
        "Um modelo só aprende padrões de forma confiável se os dados estiverem limpos e bem estruturados."
      ],
      "metadata": {
        "id": "haxpeVXheww6"
      },
      "id": "haxpeVXheww6"
    },
    {
      "cell_type": "code",
      "source": [
        "# ETAPA 3: Preparação dos dados (limpeza e features)\n",
        "import pandas as pd\n",
        "import unicodedata\n",
        "\n",
        "# --- 1) Padronizar nomes dos bairros ---\n",
        "def padroniza_texto(s):\n",
        "    if pd.isna(s):\n",
        "        return s\n",
        "    s = s.strip().lower()\n",
        "    s = ''.join(c for c in unicodedata.normalize('NFKD', s) if not unicodedata.combining(c))\n",
        "    return s.title()\n",
        "\n",
        "dados['Bairro'] = dados['Bairro'].apply(padroniza_texto)\n",
        "\n",
        "# --- 2) Corrigir tempos negativos (não temos aqui, mas garantimos) ---\n",
        "dados['Tempo espera em minutos'] = dados['Tempo espera em minutos'].clip(lower=0).round().astype(int)\n",
        "\n",
        "# --- 3) Remover duplicados ---\n",
        "dados = dados.drop_duplicates().reset_index(drop=True)\n",
        "\n",
        "# --- 4) Criar coluna Faixa do dia ---\n",
        "dados['Hora'] = dados['Horário'].str.split(':').str[0].astype(int)\n",
        "\n",
        "def faixa_dia(h):\n",
        "    if 5 <= h < 12:\n",
        "        return 'Manha'\n",
        "    elif 12 <= h < 18:\n",
        "        return 'Tarde'\n",
        "    elif 18 <= h < 23:\n",
        "        return 'Noite'\n",
        "    else:\n",
        "        return 'Madrugada'\n",
        "\n",
        "dados['Faixa do dia'] = dados['Hora'].apply(faixa_dia)\n",
        "\n",
        "# --- 5) Criar coluna Cancelou baseada no tempo de espera ---\n",
        "dados['Cancelou'] = (dados['Tempo espera em minutos'] > 10).astype(int)\n",
        "\n",
        "# Mostrar resultado\n",
        "print(\"=== Dados preparados ===\")\n",
        "print(dados)\n"
      ],
      "metadata": {
        "colab": {
          "base_uri": "https://localhost:8080/"
        },
        "id": "VVPQW5takJki",
        "outputId": "dafe210c-fdb9-4c8e-d713-6e35b7b85fe9"
      },
      "id": "VVPQW5takJki",
      "execution_count": null,
      "outputs": [
        {
          "output_type": "stream",
          "name": "stdout",
          "text": [
            "=== Dados preparados ===\n",
            "  Horário  Tempo espera em minutos       Bairro  Hora  Minuto Faixa do dia  \\\n",
            "0   06:46                        9  Sao Caetano     6      46        Manha   \n",
            "1   19:00                       13         Maua    19       0        Noite   \n",
            "2   14:25                        4       Centro    14      25        Tarde   \n",
            "3   10:13                       18         Maua    10      13        Manha   \n",
            "4   07:37                       14  Santo Andre     7      37        Manha   \n",
            "5   20:36                        9  Santo Andre    20      36        Noite   \n",
            "6   06:10                        6  Sao Caetano     6      10        Manha   \n",
            "7   18:35                        7       Centro    18      35        Noite   \n",
            "8   22:12                       10       Centro    22      12        Noite   \n",
            "9   10:42                        9  Sao Caetano    10      42        Manha   \n",
            "\n",
            "   Cancelou  \n",
            "0         0  \n",
            "1         1  \n",
            "2         0  \n",
            "3         1  \n",
            "4         1  \n",
            "5         0  \n",
            "6         0  \n",
            "7         0  \n",
            "8         0  \n",
            "9         0  \n"
          ]
        }
      ]
    },
    {
      "cell_type": "markdown",
      "source": [
        "## **4️⃣ Modelagem: Criar modelo preditivo**\n",
        "\n",
        "**🤷 O que fazemos:**\n",
        "\n",
        "* Usar algoritmos de machine learning para prever cancelamentos.\n",
        "\n",
        "**🚖 Exemplo com Uber (mini código):**\n",
        "\n",
        "**💡 Por que é importante:**\n",
        "\n",
        "O modelo vai aprender padrões nos dados para prever se um passageiro provavelmente vai cancelar."
      ],
      "metadata": {
        "id": "qwiuh63zm5pK"
      },
      "id": "qwiuh63zm5pK"
    },
    {
      "cell_type": "code",
      "source": [
        "from sklearn.model_selection import train_test_split\n",
        "from sklearn.ensemble import RandomForestClassifier\n",
        "from sklearn.metrics import classification_report\n",
        "\n",
        "# Variáveis explicativas\n",
        "X = pd.get_dummies(dados[['Faixa do dia','Bairro','Tempo espera em minutos']], drop_first=True)\n",
        "y = dados['Cancelou']  # 0 = não, 1 = sim\n",
        "\n",
        "# Separar treino e teste\n",
        "X_train, X_test, y_train, y_test = train_test_split(X, y, test_size=0.2, random_state=42)\n",
        "\n",
        "# Criar modelo\n",
        "modelo = RandomForestClassifier(random_state=42)\n",
        "modelo.fit(X_train, y_train)\n",
        "\n",
        "# Fazer previsões\n",
        "y_pred = modelo.predict(X_test)\n",
        "print(classification_report(y_test, y_pred))\n"
      ],
      "metadata": {
        "colab": {
          "base_uri": "https://localhost:8080/"
        },
        "id": "NY_Fl1BJZ8Qo",
        "outputId": "0e6b556d-d9dd-4d6a-cf6f-a40bfdc863c7"
      },
      "id": "NY_Fl1BJZ8Qo",
      "execution_count": null,
      "outputs": [
        {
          "output_type": "stream",
          "name": "stdout",
          "text": [
            "              precision    recall  f1-score   support\n",
            "\n",
            "           0       1.00      1.00      1.00         1\n",
            "           1       1.00      1.00      1.00         1\n",
            "\n",
            "    accuracy                           1.00         2\n",
            "   macro avg       1.00      1.00      1.00         2\n",
            "weighted avg       1.00      1.00      1.00         2\n",
            "\n"
          ]
        }
      ]
    },
    {
      "cell_type": "markdown",
      "source": [
        "## **5️⃣ Validação: Verificar se o modelo funciona bem**\n",
        "\n",
        "🤷 **O que fazemos:**\n",
        "\n",
        "* Conferimos se as previsões estão confiáveis.\n",
        "\n",
        "* Avaliamos métricas como: precisão, recall e F1-score.\n",
        "\n",
        "🚖 **Exemplo com Uber:**\n",
        "\n",
        "* Precisão → quantos cancelamentos o modelo acertou.\n",
        "\n",
        "* Recall → quantos cancelamentos reais foram identificados.\n",
        "\n",
        "* F1-score → equilíbrio entre precisão e recall.\n",
        "\n",
        "💡 **Por que é importante:**\n",
        "\n",
        "Se o modelo não tiver bom desempenho, não adianta usar na prática, pode causar alertas falsos e confusão para os motoristas."
      ],
      "metadata": {
        "id": "U0MaO_WaaANf"
      },
      "id": "U0MaO_WaaANf"
    },
    {
      "cell_type": "markdown",
      "source": [
        "## **6️⃣ Implantação e Acompanhamento: Usar o modelo na prática**\n",
        "\n",
        "🤷 **O que fazemos:**\n",
        "\n",
        "* Colocar o modelo para rodar em tempo real ou integrado ao sistema da Uber.\n",
        "\n",
        "* Monitorar se continua funcionando bem com dados novos.\n",
        "\n",
        "🚖 **Exemplo com Uber:**\n",
        "\n",
        "* Cada nova corrida recebe uma probabilidade de cancelamento.\n",
        "\n",
        "* Se for alta, o motorista é avisado ou recebe incentivo (cupom, prioridade, etc.).\n",
        "\n",
        "* O time de dados verifica periodicamente se o modelo continua preciso.\n",
        "\n",
        "💡 **Por que é importante:**\n",
        "\n",
        "Não adianta só criar o modelo; ele precisa ser útil e confiável na prática, ajudando a reduzir cancelamentos e melhorar a experiência de motoristas e passageiros."
      ],
      "metadata": {
        "id": "JHPfN6vPau4z"
      },
      "id": "JHPfN6vPau4z"
    },
    {
      "cell_type": "markdown",
      "source": [
        "# **📊 Estatística Descritiva**\n",
        "\n",
        "É o conjunto de técnicas que permite resumir, organizar e interpretar um conjunto de dados.\n",
        "\n",
        "👉 Não busca prever ou inferir (isso é estatística inferencial), apenas descrever o que está acontecendo.\n",
        "\n",
        "✦ **Principais elementos:**\n",
        "\n",
        "* **Medidas de tendência central →** média, mediana, moda.\n",
        "\n",
        "* **Medidas de dispersão →** variância, desvio-padrão, amplitude.\n",
        "\n",
        "* **Medidas de forma →** assimetria, curtose.\n",
        "\n",
        "* **Visualizações →** histogramas, boxplots, gráficos de dispersão.\n",
        "\n",
        "**📌 Onde ela se encaixa?**\n",
        "\n",
        "* **KDD / CRISP-DM →** na fase de Entendimento dos Dados (exploração inicial).\n",
        "\n",
        "* **Qualidade dos Dados →** ajuda a identificar outliers, dados faltantes, inconsistências.\n",
        "\n",
        "* **Pré-processamento →** dá base para normalização, padronização e seleção de variáveis.\n",
        "\n",
        "**👉 Em resumo:** antes de minerar, você descreve e entende os dados com estatística descritiva.\n",
        "\n",
        "**📝 Resumo rápido para lembrar**\n",
        "\n",
        "* **Tendência central →** média, mediana, moda (resumem o centro).\n",
        "\n",
        "* **Dispersão →** variância, desvio-padrão, amplitude (mostram o espalhamento).\n",
        "\n",
        "* **Uso →** explorar dados, avaliar qualidade, guiar pré-processamento."
      ],
      "metadata": {
        "id": "nV7FYB1siBV5"
      },
      "id": "nV7FYB1siBV5"
    },
    {
      "cell_type": "code",
      "source": [
        "import numpy as np\n",
        "import pandas as pd\n",
        "import matplotlib.pyplot as plt\n",
        "\n",
        "# Exemplo: notas de alunos\n",
        "notas = [5, 6, 6, 7, 7, 8, 9, 10, 10, 100]  # note que 100 é um outlier\n",
        "\n",
        "# Transformar em série do pandas\n",
        "serie = pd.Series(notas)\n",
        "\n",
        "# --- Medidas de tendência central ---\n",
        "media = serie.mean()\n",
        "mediana = serie.median()\n",
        "moda = serie.mode().tolist()  # pode ter mais de uma moda\n",
        "\n",
        "# --- Medidas de dispersão ---\n",
        "variancia = serie.var()\n",
        "desvio_padrao = serie.std()\n",
        "\n",
        "print(\"Média:\", media)\n",
        "print(\"Mediana:\", mediana)\n",
        "print(\"Moda:\", moda)\n",
        "print(\"Variância:\", variancia)\n",
        "print(\"Desvio padrão:\", desvio_padrao)\n",
        "\n",
        "# --- Visualização (boxplot para ver outlier) ---\n",
        "plt.boxplot(notas)\n",
        "plt.title(\"Boxplot das Notas\")\n",
        "plt.show()\n"
      ],
      "metadata": {
        "id": "DSUOXSOOj9uT",
        "outputId": "34d8c0f3-b3c7-49a5-b3bc-5d55e88df725",
        "colab": {
          "base_uri": "https://localhost:8080/",
          "height": 544
        }
      },
      "id": "DSUOXSOOj9uT",
      "execution_count": null,
      "outputs": [
        {
          "output_type": "stream",
          "name": "stdout",
          "text": [
            "Média: 16.8\n",
            "Mediana: 7.5\n",
            "Moda: [6, 7, 10]\n",
            "Variância: 857.5111111111113\n",
            "Desvio padrão: 29.283290646904955\n"
          ]
        },
        {
          "output_type": "display_data",
          "data": {
            "text/plain": [
              "<Figure size 640x480 with 1 Axes>"
            ],
            "image/png": "[encoded data removed]"
          },
          "metadata": {}
        }
      ]
    },
    {
      "cell_type": "markdown",
      "id": "8e6874cd",
      "metadata": {
        "id": "8e6874cd"
      },
      "source": [
        "\n",
        "---\n",
        "\n",
        "# ✨ Conclusão\n",
        "\n",
        "- **Dados** = peças soltas.  \n",
        "- **Informação** = peças organizadas.  \n",
        "- **Conhecimento** = padrões que ajudam a decidir.  \n",
        "- **KDD** = fala mais de “descobrir padrões escondidos\" nos dados.\n",
        "- **CRISP-DM** = fala mais de “resolver um problema de negócio\" usando dados.\n",
        "\n",
        "🤷 **Quando usar cada um?**\n",
        "\n",
        "* Se você está em um projeto prático numa empresa (tipo Uber, mercado, banco), geralmente usam CRISP-DM porque ele fala direto sobre negócio.\n",
        "\n",
        "* Se você está estudando ou pesquisando e quer só explorar dados e achar padrões, pode usar KDD.\n",
        "#\n",
        "✅ Ambos têm etapas, mas você escolhe qual seguir dependendo do seu objetivo.\n",
        "#\n",
        "🚀 Lembre-se: dar errado faz parte do processo! A ideia é ir ajustando até achar padrões que realmente façam sentido.\n",
        "\n",
        "\n",
        "\n",
        "\n"
      ]
    },
    {
      "cell_type": "markdown",
      "source": [
        "# **🎓 Sumário**"
      ],
      "metadata": {
        "id": "k0tIFdBBenuQ"
      },
      "id": "k0tIFdBBenuQ"
    },
    {
      "cell_type": "markdown",
      "source": [
        "### **1️. Modelo preditivo**\n",
        "* Ele olha para os dados que você já tem e tenta adivinhar algo que vai acontecer no futuro.\n",
        "\n",
        "**🚖 Exemplo com Uber:**\n",
        "\n",
        "* Você tem dados de horários, bairros e tempo de espera. Um modelo preditivo poderia aprender com esses dados e responder:\n",
        "\n",
        "“Se você pedir Uber às 18h no Centro, a chance de esperar mais de 15 minutos é de 70%.”\n",
        "\n",
        "* Ou seja, ele prevê o que vai acontecer com base em padrões passados."
      ],
      "metadata": {
        "id": "LYJAu8ljesJZ"
      },
      "id": "LYJAu8ljesJZ"
    },
    {
      "cell_type": "markdown",
      "source": [
        "### **2️. Automatizar decisões**\n",
        "\n",
        "* É quando você faz o computador tomar ações sozinho baseado nessas previsões ou regras, sem precisar de você apertar botão.\n",
        "\n",
        "**🚖 Exemplo com Uber:**\n",
        "\n",
        "\" Se o modelo preditivo diz que o tempo de espera vai ser alto\".\n",
        "#\n",
        "O sistema pode automaticamente:\n",
        "\n",
        "1. Dar um desconto no preço.\n",
        "\n",
        "2. Alertar o passageiro para pedir em outro horário.\n",
        "\n",
        "3. Redirecionar motoristas para aquele bairro.\n",
        "\n",
        "Ou seja, não é só descobrir conhecimento, mas usar isso para agir automaticamente."
      ],
      "metadata": {
        "id": "6QLrtIcXfGhB"
      },
      "id": "6QLrtIcXfGhB"
    },
    {
      "cell_type": "markdown",
      "source": [
        "### **3. DataFrame**\n",
        "\n",
        "* Ele vem antes de qualquer etapa, porque sem dados não dá pra começar o processo de mineração/análise.\n",
        "\n",
        "* Você **não cria antes da Etapa 1**, porque primeiro precisa entender o objetivo do projeto.\n",
        "\n",
        "* Mas **cria antes da Etapa 2**, porque sem ele você não consegue explorar e descobrir problemas nos dados.\n",
        "\n",
        "* **É uma tabela organizada em linhas e colunas, dentro do Python.**\n",
        "\n",
        "* Ele é criado usando a biblioteca ***PANDAS***, que É uma biblioteca do Python. Ela é usada para trabalhar com tabelas de dados no Python. O cientista de dados usa o pandas no Python, que é melhor para analisar grandes volumes, mais rápido, automatizável e poderoso.\n",
        "\n",
        "* Antes de começar o processo do CRISP-DM ou KDD, você precisa ter os dados em mãos, e no Python o jeito mais comum é colocá-los em um DataFrame. No mundo real, você geralmente já recebe os dados de algum lugar: um arquivo .csv, um banco de dados, uma API, etc. No nosso exemplo, como não tínhamos o arquivo, nós criamos manualmente o DataFrame para poder simular os dados.\n"
      ],
      "metadata": {
        "id": "RU10ah3ZXnIx"
      },
      "id": "RU10ah3ZXnIx"
    },
    {
      "cell_type": "markdown",
      "source": [
        "### **4. Cluster**\n",
        "\n",
        "* Em \"Mineração de Dados\", cluster significa grupo de coisas parecidas.\n",
        "\n",
        "* O computador pega vários dados e junta os que se parecem mais entre si. O computador descobre sozinho os grupos, sem a gente dizer antes quais são.\n",
        "\n",
        "**🚖 Exemplo com Uber:**\n",
        "\n",
        "* O algoritmo poderia analisar os dados e perceber que entre 17h–20h muita gente pede Uber, criando um cluster chamado “pico”.\n",
        "\n",
        "* E entre 02h–05h quase ninguém pede, criando outro cluster chamado “madrugada tranquila”.\n",
        "\n",
        "Você não falou quais grupos queria, mas o algoritmo descobre sozinho quem parece estar junto."
      ],
      "metadata": {
        "id": "Sk9LlAVl0f50"
      },
      "id": "Sk9LlAVl0f50"
    },
    {
      "cell_type": "markdown",
      "source": [
        "### **5. Stakeholders**\n",
        "\n",
        "\"Stakeholders\" significa as pessoas ou grupos que têm interesse no projeto.\n",
        "\n",
        "Eles são os que ganham ou perdem algo dependendo de como o projeto vai.\n",
        "\n",
        "**🚖 Exemplo com Uber:**\n",
        "\n",
        "* Passageiros → querem esperar menos e pagar um preço justo.\n",
        "\n",
        "* Motoristas → querem corridas rápidas e menos cancelamentos.\n",
        "\n",
        "* Empresa (Uber) → quer lucro e clientes satisfeitos.\n",
        "\n",
        "* Cidade / Governo → se preocupa com trânsito e regulamentação.\n",
        "\n",
        "👉 Todos eles são stakeholders porque o resultado do projeto de prever cancelamentos ou melhorar horários de espera afeta cada um de formas diferentes."
      ],
      "metadata": {
        "id": "xA4zEB3Xw2P1"
      },
      "id": "xA4zEB3Xw2P1"
    }
  ],
  "metadata": {
    "colab": {
      "provenance": [],
      "collapsed_sections": [
        "_wmk0g1rUyGu",
        "4dcfd3e5",
        "93438037",
        "cc84b5c3",
        "6f945555",
        "86DmbQHcmJq-",
        "fCbGbFM0mMAS",
        "cgi1VyismTGs",
        "k0tIFdBBenuQ"
      ],
      "include_colab_link": true
    },
    "language_info": {
      "name": "python"
    },
    "kernelspec": {
      "name": "python3",
      "display_name": "Python 3"
    }
  },
  "nbformat": 4,
  "nbformat_minor": 5
}